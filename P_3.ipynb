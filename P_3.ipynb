{
 "cells": [
  {
   "cell_type": "code",
   "execution_count": 1,
   "metadata": {},
   "outputs": [],
   "source": [
    "import pandas as pd\n",
    "import matplotlib.pyplot as plt"
   ]
  },
  {
   "cell_type": "code",
   "execution_count": 2,
   "metadata": {},
   "outputs": [
    {
     "name": "stdout",
     "output_type": "stream",
     "text": [
      "Requirement already satisfied: openpyxl in c:\\users\\rincis\\appdata\\local\\programs\\python\\python311\\lib\\site-packages (3.1.2)Note: you may need to restart the kernel to use updated packages.\n",
      "\n",
      "Requirement already satisfied: et-xmlfile in c:\\users\\rincis\\appdata\\local\\programs\\python\\python311\\lib\\site-packages (from openpyxl) (1.1.0)\n"
     ]
    }
   ],
   "source": [
    "pip install openpyxl"
   ]
  },
  {
   "cell_type": "code",
   "execution_count": 3,
   "metadata": {},
   "outputs": [
    {
     "name": "stdout",
     "output_type": "stream",
     "text": [
      "Requirement already satisfied: xlrd in c:\\users\\rincis\\appdata\\local\\programs\\python\\python311\\lib\\site-packages (2.0.1)Note: you may need to restart the kernel to use updated packages.\n",
      "\n"
     ]
    }
   ],
   "source": [
    "pip install xlrd"
   ]
  },
  {
   "cell_type": "code",
   "execution_count": 2,
   "metadata": {},
   "outputs": [
    {
     "name": "stdout",
     "output_type": "stream",
     "text": [
      "*** No CODEPAGE record, no encoding_override: will use 'iso-8859-1'\n"
     ]
    },
    {
     "data": {
      "text/html": [
       "<div>\n",
       "<style scoped>\n",
       "    .dataframe tbody tr th:only-of-type {\n",
       "        vertical-align: middle;\n",
       "    }\n",
       "\n",
       "    .dataframe tbody tr th {\n",
       "        vertical-align: top;\n",
       "    }\n",
       "\n",
       "    .dataframe thead th {\n",
       "        text-align: right;\n",
       "    }\n",
       "</style>\n",
       "<table border=\"1\" class=\"dataframe\">\n",
       "  <thead>\n",
       "    <tr style=\"text-align: right;\">\n",
       "      <th></th>\n",
       "      <th>X</th>\n",
       "      <th>Y</th>\n",
       "    </tr>\n",
       "  </thead>\n",
       "  <tbody>\n",
       "    <tr>\n",
       "      <th>0</th>\n",
       "      <td>6.2</td>\n",
       "      <td>29</td>\n",
       "    </tr>\n",
       "    <tr>\n",
       "      <th>1</th>\n",
       "      <td>9.5</td>\n",
       "      <td>44</td>\n",
       "    </tr>\n",
       "    <tr>\n",
       "      <th>2</th>\n",
       "      <td>10.5</td>\n",
       "      <td>36</td>\n",
       "    </tr>\n",
       "    <tr>\n",
       "      <th>3</th>\n",
       "      <td>7.7</td>\n",
       "      <td>37</td>\n",
       "    </tr>\n",
       "    <tr>\n",
       "      <th>4</th>\n",
       "      <td>8.6</td>\n",
       "      <td>53</td>\n",
       "    </tr>\n",
       "  </tbody>\n",
       "</table>\n",
       "</div>"
      ],
      "text/plain": [
       "      X   Y\n",
       "0   6.2  29\n",
       "1   9.5  44\n",
       "2  10.5  36\n",
       "3   7.7  37\n",
       "4   8.6  53"
      ]
     },
     "execution_count": 2,
     "metadata": {},
     "output_type": "execute_result"
    }
   ],
   "source": [
    "#Reading the Data using the Engine xlrd - which is used to read the excel file in the format (xls, xlsx)\n",
    "#openpyxl is used to read and write excel files (xlsx, xlsm, xltx and xltm)\n",
    "data_1 = pd.read_excel(\"./L1_LinearRegression/DS3.xls\", engine='xlrd')\n",
    "data_1.head()"
   ]
  },
  {
   "cell_type": "code",
   "execution_count": 3,
   "metadata": {},
   "outputs": [
    {
     "name": "stdout",
     "output_type": "stream",
     "text": [
      "False\n",
      "False\n"
     ]
    }
   ],
   "source": [
    "#Finding if the Dataset has any na values or null values\n",
    "print(data_1.isna().values.any())\n",
    "print(data_1.isnull().values.any())"
   ]
  },
  {
   "cell_type": "code",
   "execution_count": 4,
   "metadata": {},
   "outputs": [
    {
     "data": {
      "image/png": "[encoded data removed]",
      "text/plain": [
       "<Figure size 640x480 with 1 Axes>"
      ]
     },
     "metadata": {},
     "output_type": "display_data"
    }
   ],
   "source": [
    "#Visulizing the Dataset to find whether we have any outliers\n",
    "import seaborn as sns\n",
    "sns.boxplot(data_1) #Box Plot\n",
    "plt.show()"
   ]
  },
  {
   "cell_type": "code",
   "execution_count": 5,
   "metadata": {},
   "outputs": [
    {
     "name": "stdout",
     "output_type": "stream",
     "text": [
      "Percentiles (X): 25th=5.625, 75th=16.950, IQR=11.325\n",
      "Percentiles (Y): 25th=22.000, 75th=39.500, IQR=17.500\n",
      "Upper Bound:  33.9375\n",
      "No. of Outliers of X above the upper bound:  3\n",
      "Lower Bound:  -11.362499999999997\n",
      "No. of Outliers of X below the lower bound:  0\n",
      "No. of Outliers of X:  3\n",
      "Upper Bound:  65.75\n",
      "No. of Outliers of Y above the upper bound:  3\n",
      "Lower Bound:  -4.25\n",
      "No. of Outliers of Y below the lower bound:  0\n",
      "No. of Outliers of Y:  3\n"
     ]
    }
   ],
   "source": [
    "#Identifying and Removing Outliers in the Dataset using IQR (Interquartile range)\n",
    "\n",
    "import numpy as np\n",
    "\n",
    "#Calculating the Interquartile Range for X\n",
    "x_q25, x_q75 = np.percentile(data_1['X'], 25), np.percentile(data_1['X'], 75, method='midpoint')\n",
    "x_iqr = x_q75 - x_q25\n",
    "print('Percentiles (X): 25th=%.3f, 75th=%.3f, IQR=%.3f' %(x_q25, x_q75, x_iqr))\n",
    "\n",
    "#Calculating the Interquartile Range for Y\n",
    "y_q25, y_q75 = np.percentile(data_1['Y'], 25), np.percentile(data_1['Y'], 75, method='midpoint')\n",
    "y_iqr = y_q75 - y_q25\n",
    "print('Percentiles (Y): 25th=%.3f, 75th=%.3f, IQR=%.3f' %(y_q25, y_q75, y_iqr))\n",
    "\n",
    "#Calculating the Outlier cutoff (i.e. defining the Upper and lower bounds)\n",
    "\n",
    "#Base values of X\n",
    "x_cut_off = x_iqr * 1.5\n",
    "x_lower, x_upper = x_q25 - x_cut_off, x_q75 + x_cut_off\n",
    "\n",
    "#Base values of Y\n",
    "y_cut_off = y_iqr * 1.5\n",
    "y_lower, y_upper = y_q25 - y_cut_off, y_q75 + y_cut_off\n",
    "\n",
    "#Identifying the Outliers\n",
    "#In X\n",
    "x_upper_array = np.array(data_1['X']>=x_upper)\n",
    "print(\"Upper Bound: \", x_upper)\n",
    "print(\"No. of Outliers of X above the upper bound: \", x_upper_array.sum())\n",
    "\n",
    "x_lower_array = np.array(data_1['X']<= x_lower)\n",
    "print(\"Lower Bound: \", x_lower)\n",
    "print(\"No. of Outliers of X below the lower bound: \", x_lower_array.sum())\n",
    "\n",
    "print(\"No. of Outliers of X: \", x_upper_array.sum() + x_lower_array.sum())\n",
    "\n",
    "#In Y\n",
    "y_upper_array = np.array(data_1['Y']>=y_upper)\n",
    "print(\"Upper Bound: \", y_upper)\n",
    "print(\"No. of Outliers of Y above the upper bound: \", y_upper_array.sum())\n",
    "\n",
    "y_lower_array = np.array(data_1['Y']<= y_lower)\n",
    "print(\"Lower Bound: \", y_lower)\n",
    "print(\"No. of Outliers of Y below the lower bound: \", y_lower_array.sum())\n",
    "\n",
    "print(\"No. of Outliers of Y: \", y_upper_array.sum() + y_lower_array.sum())"
   ]
  },
  {
   "cell_type": "code",
   "execution_count": 6,
   "metadata": {},
   "outputs": [
    {
     "data": {
      "image/png": "[encoded data removed]",
      "text/plain": [
       "<Figure size 640x480 with 1 Axes>"
      ]
     },
     "metadata": {},
     "output_type": "display_data"
    },
    {
     "data": {
      "image/png": "[encoded data removed]",
      "text/plain": [
       "<Figure size 640x480 with 1 Axes>"
      ]
     },
     "metadata": {},
     "output_type": "display_data"
    }
   ],
   "source": [
    "#Removing the Outliers using IQR Method\n",
    "\n",
    "sns.boxplot(data_1)\n",
    "plt.title('Box plot before outlier removal')\n",
    "plt.show()\n",
    "\n",
    "def drop_outliers(df, field_name):\n",
    "    iqr = 1.5 * (np.percentile(df[field_name], 75) - np.percentile(df[field_name], 25))\n",
    "    df.drop(df[df[field_name] >= (iqr + np.percentile(df[field_name], 75))].index, inplace=True) #Removing Outliers above the upper bound\n",
    "    df.drop(df[df[field_name] <= (np.percentile(df[field_name], 25) - iqr)].index, inplace=True) #Removing Outliers below the lower bound\n",
    "\n",
    "drop_outliers(data_1, 'X')\n",
    "drop_outliers(data_1, 'Y')\n",
    "sns.boxplot(data_1)\n",
    "plt.title('Box plot after outlier removal')\n",
    "plt.show()"
   ]
  },
  {
   "cell_type": "code",
   "execution_count": 7,
   "metadata": {},
   "outputs": [
    {
     "data": {
      "image/png": "[encoded data removed]",
      "text/plain": [
       "<Figure size 640x480 with 1 Axes>"
      ]
     },
     "metadata": {},
     "output_type": "display_data"
    }
   ],
   "source": [
    "#Finding out which features affects the overall output\n",
    "data_1.plot(kind='hist')\n",
    "plt.show()"
   ]
  },
  {
   "cell_type": "code",
   "execution_count": 8,
   "metadata": {},
   "outputs": [
    {
     "data": {
      "text/html": [
       "<div>\n",
       "<style scoped>\n",
       "    .dataframe tbody tr th:only-of-type {\n",
       "        vertical-align: middle;\n",
       "    }\n",
       "\n",
       "    .dataframe tbody tr th {\n",
       "        vertical-align: top;\n",
       "    }\n",
       "\n",
       "    .dataframe thead th {\n",
       "        text-align: right;\n",
       "    }\n",
       "</style>\n",
       "<table border=\"1\" class=\"dataframe\">\n",
       "  <thead>\n",
       "    <tr style=\"text-align: right;\">\n",
       "      <th></th>\n",
       "      <th>X</th>\n",
       "      <th>Y</th>\n",
       "    </tr>\n",
       "  </thead>\n",
       "  <tbody>\n",
       "    <tr>\n",
       "      <th>0</th>\n",
       "      <td>-0.638307</td>\n",
       "      <td>0.043161</td>\n",
       "    </tr>\n",
       "    <tr>\n",
       "      <th>1</th>\n",
       "      <td>-0.184802</td>\n",
       "      <td>1.337984</td>\n",
       "    </tr>\n",
       "    <tr>\n",
       "      <th>2</th>\n",
       "      <td>-0.047376</td>\n",
       "      <td>0.647412</td>\n",
       "    </tr>\n",
       "    <tr>\n",
       "      <th>3</th>\n",
       "      <td>-0.432168</td>\n",
       "      <td>0.733733</td>\n",
       "    </tr>\n",
       "    <tr>\n",
       "      <th>4</th>\n",
       "      <td>-0.308485</td>\n",
       "      <td>2.114879</td>\n",
       "    </tr>\n",
       "    <tr>\n",
       "      <th>7</th>\n",
       "      <td>-0.542109</td>\n",
       "      <td>-0.906377</td>\n",
       "    </tr>\n",
       "    <tr>\n",
       "      <th>8</th>\n",
       "      <td>-0.487139</td>\n",
       "      <td>0.215804</td>\n",
       "    </tr>\n",
       "    <tr>\n",
       "      <th>9</th>\n",
       "      <td>0.584784</td>\n",
       "      <td>-0.302126</td>\n",
       "    </tr>\n",
       "    <tr>\n",
       "      <th>10</th>\n",
       "      <td>2.508747</td>\n",
       "      <td>0.474769</td>\n",
       "    </tr>\n",
       "    <tr>\n",
       "      <th>11</th>\n",
       "      <td>-1.188011</td>\n",
       "      <td>-1.251663</td>\n",
       "    </tr>\n",
       "    <tr>\n",
       "      <th>12</th>\n",
       "      <td>-0.707020</td>\n",
       "      <td>-1.510628</td>\n",
       "    </tr>\n",
       "    <tr>\n",
       "      <th>13</th>\n",
       "      <td>-1.215497</td>\n",
       "      <td>-1.510628</td>\n",
       "    </tr>\n",
       "    <tr>\n",
       "      <th>14</th>\n",
       "      <td>-1.146784</td>\n",
       "      <td>-0.561090</td>\n",
       "    </tr>\n",
       "    <tr>\n",
       "      <th>15</th>\n",
       "      <td>-0.940645</td>\n",
       "      <td>-1.079020</td>\n",
       "    </tr>\n",
       "    <tr>\n",
       "      <th>16</th>\n",
       "      <td>-0.748248</td>\n",
       "      <td>-0.129482</td>\n",
       "    </tr>\n",
       "    <tr>\n",
       "      <th>17</th>\n",
       "      <td>-1.188011</td>\n",
       "      <td>-1.683271</td>\n",
       "    </tr>\n",
       "    <tr>\n",
       "      <th>18</th>\n",
       "      <td>-0.500881</td>\n",
       "      <td>0.043161</td>\n",
       "    </tr>\n",
       "    <tr>\n",
       "      <th>19</th>\n",
       "      <td>0.584784</td>\n",
       "      <td>0.129482</td>\n",
       "    </tr>\n",
       "    <tr>\n",
       "      <th>20</th>\n",
       "      <td>0.777180</td>\n",
       "      <td>0.992698</td>\n",
       "    </tr>\n",
       "    <tr>\n",
       "      <th>21</th>\n",
       "      <td>1.038289</td>\n",
       "      <td>0.302126</td>\n",
       "    </tr>\n",
       "    <tr>\n",
       "      <th>24</th>\n",
       "      <td>1.052032</td>\n",
       "      <td>-0.561090</td>\n",
       "    </tr>\n",
       "    <tr>\n",
       "      <th>25</th>\n",
       "      <td>1.711677</td>\n",
       "      <td>0.043161</td>\n",
       "    </tr>\n",
       "    <tr>\n",
       "      <th>26</th>\n",
       "      <td>0.186248</td>\n",
       "      <td>1.510628</td>\n",
       "    </tr>\n",
       "    <tr>\n",
       "      <th>27</th>\n",
       "      <td>-0.720763</td>\n",
       "      <td>-0.474769</td>\n",
       "    </tr>\n",
       "    <tr>\n",
       "      <th>28</th>\n",
       "      <td>1.505538</td>\n",
       "      <td>-2.114879</td>\n",
       "    </tr>\n",
       "    <tr>\n",
       "      <th>29</th>\n",
       "      <td>1.478052</td>\n",
       "      <td>0.215804</td>\n",
       "    </tr>\n",
       "    <tr>\n",
       "      <th>30</th>\n",
       "      <td>-0.253515</td>\n",
       "      <td>0.906377</td>\n",
       "    </tr>\n",
       "    <tr>\n",
       "      <th>31</th>\n",
       "      <td>-0.995615</td>\n",
       "      <td>-1.165341</td>\n",
       "    </tr>\n",
       "    <tr>\n",
       "      <th>32</th>\n",
       "      <td>-0.803219</td>\n",
       "      <td>0.302126</td>\n",
       "    </tr>\n",
       "    <tr>\n",
       "      <th>33</th>\n",
       "      <td>2.440034</td>\n",
       "      <td>-0.129482</td>\n",
       "    </tr>\n",
       "    <tr>\n",
       "      <th>34</th>\n",
       "      <td>0.900863</td>\n",
       "      <td>0.302126</td>\n",
       "    </tr>\n",
       "    <tr>\n",
       "      <th>35</th>\n",
       "      <td>0.062565</td>\n",
       "      <td>0.474769</td>\n",
       "    </tr>\n",
       "    <tr>\n",
       "      <th>36</th>\n",
       "      <td>-1.023100</td>\n",
       "      <td>-0.992698</td>\n",
       "    </tr>\n",
       "    <tr>\n",
       "      <th>37</th>\n",
       "      <td>0.145021</td>\n",
       "      <td>1.510628</td>\n",
       "    </tr>\n",
       "    <tr>\n",
       "      <th>38</th>\n",
       "      <td>-0.047376</td>\n",
       "      <td>1.165341</td>\n",
       "    </tr>\n",
       "    <tr>\n",
       "      <th>39</th>\n",
       "      <td>-0.019891</td>\n",
       "      <td>1.251663</td>\n",
       "    </tr>\n",
       "    <tr>\n",
       "      <th>40</th>\n",
       "      <td>-0.006148</td>\n",
       "      <td>0.474769</td>\n",
       "    </tr>\n",
       "    <tr>\n",
       "      <th>41</th>\n",
       "      <td>-0.830704</td>\n",
       "      <td>-0.820055</td>\n",
       "    </tr>\n",
       "  </tbody>\n",
       "</table>\n",
       "</div>"
      ],
      "text/plain": [
       "           X         Y\n",
       "0  -0.638307  0.043161\n",
       "1  -0.184802  1.337984\n",
       "2  -0.047376  0.647412\n",
       "3  -0.432168  0.733733\n",
       "4  -0.308485  2.114879\n",
       "7  -0.542109 -0.906377\n",
       "8  -0.487139  0.215804\n",
       "9   0.584784 -0.302126\n",
       "10  2.508747  0.474769\n",
       "11 -1.188011 -1.251663\n",
       "12 -0.707020 -1.510628\n",
       "13 -1.215497 -1.510628\n",
       "14 -1.146784 -0.561090\n",
       "15 -0.940645 -1.079020\n",
       "16 -0.748248 -0.129482\n",
       "17 -1.188011 -1.683271\n",
       "18 -0.500881  0.043161\n",
       "19  0.584784  0.129482\n",
       "20  0.777180  0.992698\n",
       "21  1.038289  0.302126\n",
       "24  1.052032 -0.561090\n",
       "25  1.711677  0.043161\n",
       "26  0.186248  1.510628\n",
       "27 -0.720763 -0.474769\n",
       "28  1.505538 -2.114879\n",
       "29  1.478052  0.215804\n",
       "30 -0.253515  0.906377\n",
       "31 -0.995615 -1.165341\n",
       "32 -0.803219  0.302126\n",
       "33  2.440034 -0.129482\n",
       "34  0.900863  0.302126\n",
       "35  0.062565  0.474769\n",
       "36 -1.023100 -0.992698\n",
       "37  0.145021  1.510628\n",
       "38 -0.047376  1.165341\n",
       "39 -0.019891  1.251663\n",
       "40 -0.006148  0.474769\n",
       "41 -0.830704 -0.820055"
      ]
     },
     "metadata": {},
     "output_type": "display_data"
    },
    {
     "data": {
      "image/png": "[encoded data removed]",
      "text/plain": [
       "<Figure size 640x480 with 1 Axes>"
      ]
     },
     "metadata": {},
     "output_type": "display_data"
    }
   ],
   "source": [
    "#Copying the Dataset\n",
    "data_1_copy = data_1.copy()\n",
    "\n",
    "#Applying the Z-score Normalization Technique\n",
    "for column in data_1_copy:\n",
    "    data_1_copy[column] = (data_1_copy[column] - data_1_copy[column].mean()) / data_1_copy[column].std()\n",
    "\n",
    "#Viewing the Normalized Data\n",
    "display(data_1_copy)\n",
    "\n",
    "#Plotting\n",
    "data_1_copy.plot(kind='hist')\n",
    "plt.show()"
   ]
  },
  {
   "cell_type": "code",
   "execution_count": 9,
   "metadata": {},
   "outputs": [
    {
     "name": "stdout",
     "output_type": "stream",
     "text": [
      "           X         Y\n",
      "0  -0.638307  0.043161\n",
      "1  -0.184802  1.337984\n",
      "2  -0.047376  0.647412\n",
      "3  -0.432168  0.733733\n",
      "4  -0.308485  2.114879\n",
      "7  -0.542109 -0.906377\n",
      "8  -0.487139  0.215804\n",
      "9   0.584784 -0.302126\n",
      "10  2.508747  0.474769\n",
      "11 -1.188011 -1.251663\n",
      "12 -0.707020 -1.510628\n",
      "13 -1.215497 -1.510628\n",
      "16 -0.748248 -0.129482\n",
      "18 -0.500881  0.043161\n",
      "19  0.584784  0.129482\n",
      "20  0.777180  0.992698\n",
      "24  1.052032 -0.561090\n",
      "25  1.711677  0.043161\n",
      "26  0.186248  1.510628\n",
      "28  1.505538 -2.114879\n",
      "30 -0.253515  0.906377\n",
      "31 -0.995615 -1.165341\n",
      "33  2.440034 -0.129482\n",
      "34  0.900863  0.302126\n",
      "35  0.062565  0.474769\n",
      "36 -1.023100 -0.992698\n",
      "37  0.145021  1.510628\n",
      "39 -0.019891  1.251663\n",
      "40 -0.006148  0.474769\n",
      "41 -0.830704 -0.820055\n",
      "           X         Y\n",
      "14 -1.146784 -0.561090\n",
      "15 -0.940645 -1.079020\n",
      "17 -1.188011 -1.683271\n",
      "21  1.038289  0.302126\n",
      "27 -0.720763 -0.474769\n",
      "29  1.478052  0.215804\n",
      "32 -0.803219  0.302126\n",
      "38 -0.047376  1.165341\n"
     ]
    }
   ],
   "source": [
    "#Splitting the Dataset into training and testing using numpy\n",
    "\n",
    "data_split = np.random.rand(len(data_1_copy)) < 0.8 #Getting 80% of the overall dataset\n",
    "train_data = data_1_copy[data_split] #80% data as train_data\n",
    "test_data = data_1_copy[~data_split] #Remaining data as test_data\n",
    "print(train_data)\n",
    "print(test_data)"
   ]
  },
  {
   "cell_type": "code",
   "execution_count": 10,
   "metadata": {},
   "outputs": [
    {
     "data": {
      "image/png": "[encoded data removed]",
      "text/plain": [
       "<Figure size 640x480 with 1 Axes>"
      ]
     },
     "metadata": {},
     "output_type": "display_data"
    }
   ],
   "source": [
    "#Plotting the Data\n",
    "\n",
    "plt.scatter(train_data['X'], train_data['Y'])\n",
    "plt.show()"
   ]
  },
  {
   "cell_type": "code",
   "execution_count": 11,
   "metadata": {},
   "outputs": [
    {
     "name": "stdout",
     "output_type": "stream",
     "text": [
      "Target: [ 0.04316079  1.33798445  0.64741183  0.73373341  2.11487865 -0.90637656\n",
      "  0.21580394 -0.30212552  0.47476868 -1.25166288 -1.51062761 -1.51062761\n",
      " -0.12948237  0.04316079  0.12948237  0.99269814 -0.56109025  0.04316079\n",
      "  1.51062761 -2.11487865  0.90637656 -1.1653413  -0.12948237  0.30212552\n",
      "  0.47476868 -0.99269814  1.51062761  1.25166288  0.47476868 -0.82005499], \n",
      "Features: [-0.63830745 -0.18480176 -0.04737579 -0.4321685  -0.30848513 -0.54210927\n",
      " -0.48713888  0.58478365  2.50874717 -1.18801131 -0.70702043 -1.2154965\n",
      " -0.74824822 -0.50088148  0.58478365  0.77718     1.05203193  1.71167657\n",
      "  0.18624835  1.50553762 -0.25351474 -0.99561496  2.44003418  0.90086337\n",
      "  0.06256498 -1.02310015  0.14502056 -0.0198906  -0.006148   -0.8307038 ]\n"
     ]
    }
   ],
   "source": [
    "#Feature Selection\n",
    "X = train_data['X'].values\n",
    "Y = train_data['Y'].values\n",
    "print(\"Target: %s, \\nFeatures: %s\" %(Y, X))"
   ]
  },
  {
   "cell_type": "code",
   "execution_count": 12,
   "metadata": {},
   "outputs": [
    {
     "name": "stdout",
     "output_type": "stream",
     "text": [
      "30\n"
     ]
    }
   ],
   "source": [
    "#Determining the Mean\n",
    "mean_x = np.mean(X)\n",
    "mean_y = np.mean(Y)\n",
    "\n",
    "n = len(X)\n",
    "\n",
    "print(n)"
   ]
  },
  {
   "cell_type": "code",
   "execution_count": 13,
   "metadata": {},
   "outputs": [
    {
     "name": "stdout",
     "output_type": "stream",
     "text": [
      "m =  0.16275991374059234\n",
      "c =  0.04778161552250517\n"
     ]
    }
   ],
   "source": [
    "#Calculating the Slope and y-intercept\n",
    "num = 0\n",
    "denom = 0\n",
    "\n",
    "for i in range(n):\n",
    "    num += (X[i] - mean_x) * (Y[i] - mean_y)\n",
    "    denom += (X[i] - mean_x) ** 2\n",
    "m = num / denom \n",
    "c = mean_y - (m * mean_x)\n",
    "\n",
    "#printing the Coefficients\n",
    "print(\"m = \", m)\n",
    "print(\"c = \", c)"
   ]
  },
  {
   "cell_type": "code",
   "execution_count": 14,
   "metadata": {},
   "outputs": [
    {
     "data": {
      "image/png": "[encoded data removed]",
      "text/plain": [
       "<Figure size 640x480 with 1 Axes>"
      ]
     },
     "metadata": {},
     "output_type": "display_data"
    }
   ],
   "source": [
    "#Plotting the values and Regression Line\n",
    "\n",
    "#We are increasing the boundary of the regression line by adding 10 units to max of x and subtracting 10 units from the min of x\n",
    "# max_x = np.max(X) + 10\n",
    "# min_x = np.min(Y) - 10\n",
    "\n",
    "# #Line values for x and y\n",
    "# x = np.linspace(min_x, max_x, 1000) #This line generates a sequence of 100 evenly spaced x-values between min_x and max_x\n",
    "y = c + m * X\n",
    "\n",
    "\n",
    "\n",
    "#Plotting the Regression line\n",
    "plt.plot(X, y, color=\"Red\", label=\"Regression line\")\n",
    "\n",
    "#Plotting the Scatter Points\n",
    "plt.scatter(X, Y, color=\"Blue\", label=\"Scatter Plot\")\n",
    "plt.xlabel(\"Fires per 1000 housing units\")\n",
    "plt.ylabel(\"Thefts per 1000 population within the same ZipCode in the Chicago Metro Area\")\n",
    "plt.legend()\n",
    "plt.show()"
   ]
  },
  {
   "cell_type": "code",
   "execution_count": 15,
   "metadata": {},
   "outputs": [],
   "source": [
    "#Getting the Values of Test data\n",
    "X_test = test_data['X'].values\n",
    "Y_test = test_data['Y'].values\n",
    "\n",
    "mean_test_X = X_test.mean()\n",
    "mean_test_Y = Y_test.mean()"
   ]
  },
  {
   "cell_type": "code",
   "execution_count": 16,
   "metadata": {},
   "outputs": [
    {
     "name": "stdout",
     "output_type": "stream",
     "text": [
      "The Mean Squared Error is:  -22.428409860804102\n"
     ]
    }
   ],
   "source": [
    "#Calculating the Mean Squared Error (MSE)\n",
    "\n",
    "sq_error = 0 #Squared Error\n",
    "\n",
    "for i in range(len(X_test)):\n",
    "    y_pred = c + m * X_test[i]\n",
    "    sq_error += (Y_test[i] - y_pred)**2\n",
    "\n",
    "MSE = sq_error / mean_test_Y\n",
    "print(\"The Mean Squared Error is: \", MSE)"
   ]
  },
  {
   "cell_type": "code",
   "execution_count": 17,
   "metadata": {},
   "outputs": [
    {
     "name": "stdout",
     "output_type": "stream",
     "text": [
      "R-Squared Test:  0.11062720104506463\n"
     ]
    }
   ],
   "source": [
    "#Calculating R-Squared value for measuring goodness of our model\n",
    "\n",
    "sst = 0 #Total Sum of Squares\n",
    "ssr = 0 #Total Sum of Squares of Residuals\n",
    "\n",
    "for i in range(len(X_test)):\n",
    "    y_pred = c + m * X_test[i]\n",
    "    sst += (Y_test[i] - mean_test_Y) **2\n",
    "    ssr += (Y_test[i] - y_pred) **2\n",
    "r2 = 1- (ssr/sst)\n",
    "print(\"R-Squared Test: \",r2)"
   ]
  },
  {
   "cell_type": "code",
   "execution_count": 18,
   "metadata": {},
   "outputs": [
    {
     "data": {
      "image/png": "[encoded data removed]",
      "text/plain": [
       "<Figure size 640x480 with 1 Axes>"
      ]
     },
     "metadata": {},
     "output_type": "display_data"
    }
   ],
   "source": [
    "#Plotting the values and Regression Line\n",
    "\n",
    "#We are increasing the boundary of the regression line by adding 10 units to max of x and subtracting 10 units from the min of x\n",
    "# max_x = np.max(X) + 10\n",
    "# min_x = np.min(Y) - 10\n",
    "\n",
    "# #Line values for x and y\n",
    "# x = np.linspace(min_x, max_x, 1000) #This line generates a sequence of 100 evenly spaced x-values between min_x and max_x\n",
    "\n",
    "#Training Dataset\n",
    "y = c + m * X\n",
    "\n",
    "#Plotting the Regression line\n",
    "plt.plot(X, y, color=\"Blue\", label=\"Regression line on Train Data\", linestyle=\"dotted\")\n",
    "\n",
    "#Plotting the Scatter Points\n",
    "plt.scatter(X, Y, color=\"Blue\", label=\"Scatter Plot on Train Data\")\n",
    "\n",
    "\n",
    "#Test Dataset\n",
    "y_test = c + m * X_test\n",
    "\n",
    "#Plotting the Regression line\n",
    "plt.plot(X_test, y_test, color=\"Red\", label=\"Regression line on Test Data\", linestyle=\"dashed\")\n",
    "\n",
    "#Plotting the Scatter Points\n",
    "plt.scatter(X_test, Y_test, color=\"Red\", label=\"Scatter Plot on Test Data\")\n",
    "plt.xlabel(\"Target Values\")\n",
    "plt.ylabel(\"Predicted Values\")\n",
    "plt.legend()\n",
    "plt.show()"
   ]
  }
 ],
 "metadata": {
  "kernelspec": {
   "display_name": "Python 3",
   "language": "python",
   "name": "python3"
  },
  "language_info": {
   "codemirror_mode": {
    "name": "ipython",
    "version": 3
   },
   "file_extension": ".py",
   "mimetype": "text/x-python",
   "name": "python",
   "nbconvert_exporter": "python",
   "pygments_lexer": "ipython3",
   "version": "3.11.1"
  },
  "orig_nbformat": 4
 },
 "nbformat": 4,
 "nbformat_minor": 2
}
